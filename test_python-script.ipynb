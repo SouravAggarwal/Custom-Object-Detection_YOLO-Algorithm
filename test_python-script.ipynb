{
 "cells": [
  {
   "cell_type": "code",
   "execution_count": null,
   "metadata": {
    "collapsed": true
   },
   "outputs": [],
   "source": [
    "# /darkflow-master>\n",
    "\n",
    "from darkflow.net.build import TFNet\n",
    "import cv2\n",
    "\n",
    "options = {\"model\": \"cfg/tiny-yolo-voc-1c.cfg\", \"load\": 100 , \"threshold\": 0.1}\n",
    "\n",
    "tfnet = TFNet(options)\n",
    "\n",
    "imgcv = cv2.imread(\"data/images/1.jpg\")\n",
    "result = tfnet.return_predict(imgcv)\n",
    "print(result)"
   ]
  }
 ],
 "metadata": {
  "kernelspec": {
   "display_name": "Python 3",
   "language": "python",
   "name": "python3"
  },
  "language_info": {
   "codemirror_mode": {
    "name": "ipython",
    "version": 3
   },
   "file_extension": ".py",
   "mimetype": "text/x-python",
   "name": "python",
   "nbconvert_exporter": "python",
   "pygments_lexer": "ipython3",
   "version": "3.6.3"
  }
 },
 "nbformat": 4,
 "nbformat_minor": 2
}
